{
 "cells": [
  {
   "cell_type": "code",
   "execution_count": 60,
   "metadata": {},
   "outputs": [],
   "source": [
    "class Const:\n",
    "    def __init__(self, val):\n",
    "        self.val = val\n",
    "        self.grad = 0\n",
    "    \n",
    "    def forward(self):\n",
    "        return self.val\n",
    "    \n",
    "    def backward(self, prev_grad=1):\n",
    "        pass\n",
    "    \n",
    "class Input:\n",
    "    def __init__(self):\n",
    "        self.val = None\n",
    "        self.grad = None\n",
    "    \n",
    "    def feed(self, x):\n",
    "        self.val = x\n",
    "    \n",
    "    def forward(self):\n",
    "        if self.val is None:\n",
    "            raise ValueError('The Input node needs to be initialized.')\n",
    "        return self.val\n",
    "\n",
    "    def backward(self, prev_grad):\n",
    "        self.grad = prev_grad\n",
    "    \n",
    "class Add:\n",
    "    def __init__(self, x, y):\n",
    "        self.x = x\n",
    "        self.y = y\n",
    "        self.val = None\n",
    "        self.grad = None\n",
    "    \n",
    "    def forward(self):\n",
    "        self.val = self.x.forward() + self.y.forward() # Need to store the value for the backward pass\n",
    "        return self.val\n",
    "    \n",
    "    def backward(self, prev_grad=1):\n",
    "        self.grad = prev_grad\n",
    "        self.x.backward(self.grad)\n",
    "        self.y.backward(self.grad)\n",
    "\n",
    "class Mult:\n",
    "    def __init__(self, x, y):\n",
    "        self.x = x\n",
    "        self.y = y\n",
    "        self.val = None\n",
    "        self.grad = None\n",
    "    \n",
    "    def forward(self):\n",
    "        self.val = self.x.forward() * self.y.forward()\n",
    "        return self.val\n",
    "    \n",
    "    def backward(self, prev_grad=1):\n",
    "        self.grad = prev_grad\n",
    "        self.x.backward(self.grad * self.y.val)\n",
    "        self.y.backward(self.grad * self.x.val)"
   ]
  },
  {
   "cell_type": "code",
   "execution_count": 61,
   "metadata": {},
   "outputs": [],
   "source": [
    "# f(a, b, c) = (a+b)*c\n",
    "# q = 1*a\n",
    "# r = q + b\n",
    "# f(a, b, c) = (q+b)*c = r*c\n",
    "\n",
    "def f(a, b, c):\n",
    "    return (a+b)*c\n",
    "\n",
    "a, b, c = Input(), Input(), Input() # Will be fed later\n",
    "q = Mult(Const(1), a) # Just to test a multiplication with a constant\n",
    "r = Add(q, b)\n",
    "output = Mult(r, c)"
   ]
  },
  {
   "cell_type": "code",
   "execution_count": 62,
   "metadata": {},
   "outputs": [
    {
     "name": "stdout",
     "output_type": "stream",
     "text": [
      "-12 -12\n"
     ]
    }
   ],
   "source": [
    "# f(-2, 5, -4) = -12\n",
    "# https://youtu.be/d14TUNcbn1k?t=10m57s\n",
    "a.feed(-2)\n",
    "b.feed(5)\n",
    "c.feed(-4)\n",
    "\n",
    "python_res = f(a.forward(), b.forward(), c.forward())\n",
    "graph_res = output.forward()\n",
    "\n",
    "print(python_res, graph_res)"
   ]
  },
  {
   "cell_type": "code",
   "execution_count": 63,
   "metadata": {},
   "outputs": [
    {
     "data": {
      "text/plain": [
       "'\\n\\n--> a -> *1\\n                     +\\n          /      --> b   * -->\\n            /\\n      -->  c\\n'"
      ]
     },
     "execution_count": 63,
     "metadata": {},
     "output_type": "execute_result"
    }
   ],
   "source": [
    "\"\"\"\n",
    "\n",
    "--> a -> *1\n",
    "          \\\n",
    "           +\n",
    "          / \\\n",
    "     --> b   * -->\n",
    "            /\n",
    "      -->  c\n",
    "\"\"\""
   ]
  },
  {
   "cell_type": "code",
   "execution_count": 65,
   "metadata": {},
   "outputs": [
    {
     "name": "stdout",
     "output_type": "stream",
     "text": [
      "1\n",
      "-4\n",
      "-4\n",
      "-4\n",
      "-4\n",
      "3\n"
     ]
    }
   ],
   "source": [
    "output.backward()\n",
    "print(output.grad)\n",
    "print(r.grad)\n",
    "print(q.grad)\n",
    "print(a.grad)\n",
    "print(b.grad)\n",
    "print(c.grad)"
   ]
  },
  {
   "cell_type": "code",
   "execution_count": null,
   "metadata": {},
   "outputs": [],
   "source": []
  }
 ],
 "metadata": {
  "kernelspec": {
   "display_name": "ml_lab",
   "language": "python",
   "name": "ml_lab"
  },
  "language_info": {
   "codemirror_mode": {
    "name": "ipython",
    "version": 3
   },
   "file_extension": ".py",
   "mimetype": "text/x-python",
   "name": "python",
   "nbconvert_exporter": "python",
   "pygments_lexer": "ipython3",
   "version": "3.6.1"
  }
 },
 "nbformat": 4,
 "nbformat_minor": 2
}
